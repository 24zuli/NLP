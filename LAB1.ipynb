{
 "cells": [
  {
   "cell_type": "code",
   "execution_count": 3,
   "id": "75d0dbe6-5e78-4b73-b9ea-53eb69dac622",
   "metadata": {},
   "outputs": [
    {
     "name": "stdout",
     "output_type": "stream",
     "text": [
      "Requirement already satisfied: nltk in /Users/zulidobariya/anaconda3/lib/python3.11/site-packages (3.8.1)\n",
      "Requirement already satisfied: click in /Users/zulidobariya/anaconda3/lib/python3.11/site-packages (from nltk) (8.1.7)\n",
      "Requirement already satisfied: joblib in /Users/zulidobariya/anaconda3/lib/python3.11/site-packages (from nltk) (1.2.0)\n",
      "Requirement already satisfied: regex>=2021.8.3 in /Users/zulidobariya/anaconda3/lib/python3.11/site-packages (from nltk) (2024.5.15)\n",
      "Requirement already satisfied: tqdm in /Users/zulidobariya/anaconda3/lib/python3.11/site-packages (from nltk) (4.66.4)\n",
      "\n",
      "\u001b[1m[\u001b[0m\u001b[34;49mnotice\u001b[0m\u001b[1;39;49m]\u001b[0m\u001b[39;49m A new release of pip is available: \u001b[0m\u001b[31;49m24.2\u001b[0m\u001b[39;49m -> \u001b[0m\u001b[32;49m24.3.1\u001b[0m\n",
      "\u001b[1m[\u001b[0m\u001b[34;49mnotice\u001b[0m\u001b[1;39;49m]\u001b[0m\u001b[39;49m To update, run: \u001b[0m\u001b[32;49mpip install --upgrade pip\u001b[0m\n"
     ]
    }
   ],
   "source": [
    "!pip install nltk "
   ]
  },
  {
   "cell_type": "code",
   "execution_count": 4,
   "id": "adb54dbe-ffb8-497e-a4e4-80b8dcf0159a",
   "metadata": {},
   "outputs": [],
   "source": [
    "import nltk"
   ]
  },
  {
   "cell_type": "code",
   "execution_count": 5,
   "id": "d8bfca54-4d42-4516-9370-689471755416",
   "metadata": {},
   "outputs": [],
   "source": [
    "from nltk.tokenize import sent_tokenize,word_tokenize"
   ]
  },
  {
   "cell_type": "code",
   "execution_count": 6,
   "id": "120268f7-291b-4fdc-9159-7ddefad3c4f6",
   "metadata": {},
   "outputs": [],
   "source": [
    "example_string = \"\"\"\n",
    "....I'm zuli dobariya student of B.Tech AIML.An enthusiastic learner of NLP.\n",
    "...Also want to know more about GANs,Rainforcement Learning,Deep learning.\n",
    "....I'm doing the course on Deep Learning For Natural Lanuguage Processing.\"\"\"\n"
   ]
  },
  {
   "cell_type": "markdown",
   "id": "91c311e6-1f7b-418b-acfa-d1aa9cc531b0",
   "metadata": {},
   "source": [
    "# Tokenizing"
   ]
  },
  {
   "cell_type": "code",
   "execution_count": 8,
   "id": "07eb9c15-671a-4113-b7c2-0767da4d6b32",
   "metadata": {},
   "outputs": [
    {
     "name": "stderr",
     "output_type": "stream",
     "text": [
      "[nltk_data] Downloading package punkt to\n",
      "[nltk_data]     /Users/zulidobariya/nltk_data...\n",
      "[nltk_data]   Unzipping tokenizers/punkt.zip.\n"
     ]
    },
    {
     "data": {
      "text/plain": [
       "[\"\\n....I'm zuli dobariya student of B.Tech AIML.An enthusiastic learner of NLP.\",\n",
       " '...Also want to know more about GANs,Rainforcement Learning,Deep learning.',\n",
       " \"....I'm doing the course on Deep Learning For Natural Lanuguage Processing.\"]"
      ]
     },
     "execution_count": 8,
     "metadata": {},
     "output_type": "execute_result"
    }
   ],
   "source": [
    "nltk.download('punkt')\n",
    "sent_tokenize(example_string)"
   ]
  },
  {
   "cell_type": "code",
   "execution_count": 9,
   "id": "75366361-6dd8-4458-a683-9964a36e6b5f",
   "metadata": {},
   "outputs": [
    {
     "data": {
      "text/plain": [
       "['....',\n",
       " 'I',\n",
       " \"'m\",\n",
       " 'zuli',\n",
       " 'dobariya',\n",
       " 'student',\n",
       " 'of',\n",
       " 'B.Tech',\n",
       " 'AIML.An',\n",
       " 'enthusiastic',\n",
       " 'learner',\n",
       " 'of',\n",
       " 'NLP',\n",
       " '.',\n",
       " '...',\n",
       " 'Also',\n",
       " 'want',\n",
       " 'to',\n",
       " 'know',\n",
       " 'more',\n",
       " 'about',\n",
       " 'GANs',\n",
       " ',',\n",
       " 'Rainforcement',\n",
       " 'Learning',\n",
       " ',',\n",
       " 'Deep',\n",
       " 'learning',\n",
       " '.',\n",
       " '....',\n",
       " 'I',\n",
       " \"'m\",\n",
       " 'doing',\n",
       " 'the',\n",
       " 'course',\n",
       " 'on',\n",
       " 'Deep',\n",
       " 'Learning',\n",
       " 'For',\n",
       " 'Natural',\n",
       " 'Lanuguage',\n",
       " 'Processing',\n",
       " '.']"
      ]
     },
     "execution_count": 9,
     "metadata": {},
     "output_type": "execute_result"
    }
   ],
   "source": [
    "word_tokenize(example_string)"
   ]
  },
  {
   "cell_type": "markdown",
   "id": "f33dc199-9b70-4359-acb9-a1d7ae9e7181",
   "metadata": {},
   "source": [
    "# Filtering Stop Words."
   ]
  },
  {
   "cell_type": "code",
   "execution_count": null,
   "id": "15e05ace-00eb-4c3f-9e95-decb705ba5b9",
   "metadata": {},
   "outputs": [],
   "source": [
    "nltk.download(\"stopwords\")"
   ]
  },
  {
   "cell_type": "code",
   "execution_count": 11,
   "id": "6a6ba588-f9a0-47a1-9f02-c84bab5b0aea",
   "metadata": {},
   "outputs": [],
   "source": [
    "from nltk.corpus import stopwords\n",
    "from nltk.tokenize import word_tokenize"
   ]
  },
  {
   "cell_type": "code",
   "execution_count": 12,
   "id": "0d89b485-d716-4647-bf90-2ef8abdf776f",
   "metadata": {},
   "outputs": [],
   "source": [
    "word_quote = \"Hello, I'm Zuli Dobariya, I'm an AIML Student!\""
   ]
  },
  {
   "cell_type": "code",
   "execution_count": 13,
   "id": "f549707f-16c7-4f88-9475-7caf3faa28ea",
   "metadata": {},
   "outputs": [],
   "source": [
    "words_in_quote = word_tokenize(word_quote)"
   ]
  },
  {
   "cell_type": "code",
   "execution_count": 15,
   "id": "df7fd888-ae39-423f-88b1-be658a8f1352",
   "metadata": {},
   "outputs": [
    {
     "data": {
      "text/plain": [
       "['Hello',\n",
       " ',',\n",
       " 'I',\n",
       " \"'m\",\n",
       " 'Zuli',\n",
       " 'Dobariya',\n",
       " ',',\n",
       " 'I',\n",
       " \"'m\",\n",
       " 'an',\n",
       " 'AIML',\n",
       " 'Student',\n",
       " '!']"
      ]
     },
     "execution_count": 15,
     "metadata": {},
     "output_type": "execute_result"
    }
   ],
   "source": [
    "words_in_quote"
   ]
  },
  {
   "cell_type": "code",
   "execution_count": 16,
   "id": "211cc6d1-e1a8-44f7-b979-d2da77c14c2d",
   "metadata": {},
   "outputs": [],
   "source": [
    "stop_words = set(stopwords.words(\"english\"))"
   ]
  },
  {
   "cell_type": "code",
   "execution_count": 17,
   "id": "1dad4734-fba5-4151-8d7b-85cb004acee4",
   "metadata": {},
   "outputs": [],
   "source": [
    "filtered_list = []"
   ]
  },
  {
   "cell_type": "code",
   "execution_count": 18,
   "id": "e97f270a-9e70-4c46-b3d5-15f576e7c2ba",
   "metadata": {},
   "outputs": [],
   "source": [
    "for word in words_in_quote:\n",
    "    if word.casefold() not in stop_words:\n",
    "        filtered_list.append(word)"
   ]
  },
  {
   "cell_type": "code",
   "execution_count": 20,
   "id": "d6ea26fc-6a37-460c-87e3-f4383a797850",
   "metadata": {},
   "outputs": [],
   "source": [
    "filtered_list = [\n",
    "    word for word in words_in_quote if word.casefold() not in stop_words\n",
    "]"
   ]
  },
  {
   "cell_type": "code",
   "execution_count": 21,
   "id": "7eb020ae-df53-4afd-b712-0d3c7dde54a0",
   "metadata": {},
   "outputs": [
    {
     "data": {
      "text/plain": [
       "['Hello', ',', \"'m\", 'Zuli', 'Dobariya', ',', \"'m\", 'AIML', 'Student', '!']"
      ]
     },
     "execution_count": 21,
     "metadata": {},
     "output_type": "execute_result"
    }
   ],
   "source": [
    "filtered_list"
   ]
  },
  {
   "cell_type": "markdown",
   "id": "fb5be73d-bbf3-4f06-84d4-436aa0d4a312",
   "metadata": {},
   "source": [
    "# Stemming"
   ]
  },
  {
   "cell_type": "code",
   "execution_count": 23,
   "id": "3ec26188-f30d-4216-9363-957397b5c826",
   "metadata": {},
   "outputs": [],
   "source": [
    "from nltk.stem import PorterStemmer\n",
    "from nltk.tokenize import word_tokenize"
   ]
  },
  {
   "cell_type": "code",
   "execution_count": 24,
   "id": "4bd95917-d03c-4574-a476-0396de315cbd",
   "metadata": {},
   "outputs": [],
   "source": [
    "stemmer = PorterStemmer()"
   ]
  },
  {
   "cell_type": "code",
   "execution_count": 28,
   "id": "482efb6f-844f-414f-9a00-6dd9be19af03",
   "metadata": {},
   "outputs": [],
   "source": [
    "string_for_stemming = \"\"\"\n",
    "the crew of the uss discovery discovered many discoveries.\n",
    "discovering is what explorers do.\"\"\""
   ]
  },
  {
   "cell_type": "code",
   "execution_count": 29,
   "id": "a03ef941-fea5-4929-8216-c91a5646a9b3",
   "metadata": {},
   "outputs": [],
   "source": [
    "words = word_tokenize(string_for_stemming)"
   ]
  },
  {
   "cell_type": "code",
   "execution_count": 30,
   "id": "61c6db7a-f21b-4cf3-b945-68e6748d1b4c",
   "metadata": {},
   "outputs": [
    {
     "data": {
      "text/plain": [
       "['the',\n",
       " 'crew',\n",
       " 'of',\n",
       " 'the',\n",
       " 'uss',\n",
       " 'discovery',\n",
       " 'discovered',\n",
       " 'many',\n",
       " 'discoveries',\n",
       " '.',\n",
       " 'discovering',\n",
       " 'is',\n",
       " 'what',\n",
       " 'explorers',\n",
       " 'do',\n",
       " '.']"
      ]
     },
     "execution_count": 30,
     "metadata": {},
     "output_type": "execute_result"
    }
   ],
   "source": [
    "words"
   ]
  },
  {
   "cell_type": "code",
   "execution_count": 31,
   "id": "264ab00c-ab5b-49a7-9ea5-a8bc5762e6c5",
   "metadata": {},
   "outputs": [],
   "source": [
    "stemmed_words = [stemmer.stem(word) for word in words]"
   ]
  },
  {
   "cell_type": "code",
   "execution_count": 32,
   "id": "0de90439-0b01-4ea2-a78c-2dcd3509e2b1",
   "metadata": {},
   "outputs": [
    {
     "data": {
      "text/plain": [
       "['the',\n",
       " 'crew',\n",
       " 'of',\n",
       " 'the',\n",
       " 'uss',\n",
       " 'discoveri',\n",
       " 'discov',\n",
       " 'mani',\n",
       " 'discoveri',\n",
       " '.',\n",
       " 'discov',\n",
       " 'is',\n",
       " 'what',\n",
       " 'explor',\n",
       " 'do',\n",
       " '.']"
      ]
     },
     "execution_count": 32,
     "metadata": {},
     "output_type": "execute_result"
    }
   ],
   "source": [
    "stemmed_words"
   ]
  },
  {
   "cell_type": "code",
   "execution_count": 33,
   "id": "a4aa8fa2-f258-4b7f-98a7-15f66dd78342",
   "metadata": {},
   "outputs": [],
   "source": [
    "string_for_stemmings = \"\"\"\n",
    "the runner is running on the runners playrunner.\n",
    "he should running on the bases of run\"\"\""
   ]
  },
  {
   "cell_type": "code",
   "execution_count": 34,
   "id": "69363830-0527-4dd2-a396-d2ca4b66098f",
   "metadata": {},
   "outputs": [],
   "source": [
    "words = word_tokenize(string_for_stemmings)"
   ]
  },
  {
   "cell_type": "code",
   "execution_count": 35,
   "id": "982a0d43-0049-43bd-bb5e-ca72977b2df3",
   "metadata": {},
   "outputs": [
    {
     "data": {
      "text/plain": [
       "['the',\n",
       " 'runner',\n",
       " 'is',\n",
       " 'running',\n",
       " 'on',\n",
       " 'the',\n",
       " 'runners',\n",
       " 'playrunner',\n",
       " '.',\n",
       " 'he',\n",
       " 'should',\n",
       " 'running',\n",
       " 'on',\n",
       " 'the',\n",
       " 'bases',\n",
       " 'of',\n",
       " 'run']"
      ]
     },
     "execution_count": 35,
     "metadata": {},
     "output_type": "execute_result"
    }
   ],
   "source": [
    "words"
   ]
  },
  {
   "cell_type": "code",
   "execution_count": 36,
   "id": "6037bef3-17ca-41b7-b22c-a171656ca99d",
   "metadata": {},
   "outputs": [],
   "source": [
    "stemmed_words = [stemmer.stem(word) for word in words]"
   ]
  },
  {
   "cell_type": "code",
   "execution_count": 37,
   "id": "2b8cb696-38ef-46e8-9c3f-affd7e579cbd",
   "metadata": {},
   "outputs": [
    {
     "data": {
      "text/plain": [
       "['the',\n",
       " 'runner',\n",
       " 'is',\n",
       " 'run',\n",
       " 'on',\n",
       " 'the',\n",
       " 'runner',\n",
       " 'playrunn',\n",
       " '.',\n",
       " 'he',\n",
       " 'should',\n",
       " 'run',\n",
       " 'on',\n",
       " 'the',\n",
       " 'base',\n",
       " 'of',\n",
       " 'run']"
      ]
     },
     "execution_count": 37,
     "metadata": {},
     "output_type": "execute_result"
    }
   ],
   "source": [
    "stemmed_words"
   ]
  },
  {
   "cell_type": "code",
   "execution_count": 38,
   "id": "69b05b18-937e-4321-92fe-8090f4acded9",
   "metadata": {},
   "outputs": [],
   "source": [
    "# find frequency of a paragraph"
   ]
  },
  {
   "cell_type": "code",
   "execution_count": null,
   "id": "6111aee3-73c8-4cb6-9a0c-2b1f8811b616",
   "metadata": {},
   "outputs": [],
   "source": []
  }
 ],
 "metadata": {
  "kernelspec": {
   "display_name": "Python 3 (ipykernel)",
   "language": "python",
   "name": "python3"
  },
  "language_info": {
   "codemirror_mode": {
    "name": "ipython",
    "version": 3
   },
   "file_extension": ".py",
   "mimetype": "text/x-python",
   "name": "python",
   "nbconvert_exporter": "python",
   "pygments_lexer": "ipython3",
   "version": "3.11.7"
  }
 },
 "nbformat": 4,
 "nbformat_minor": 5
}
