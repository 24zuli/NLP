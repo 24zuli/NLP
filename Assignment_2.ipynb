{
 "cells": [
  {
   "cell_type": "code",
   "execution_count": 1,
   "id": "4804bbbd-6330-4147-aca4-77cfe58ba131",
   "metadata": {},
   "outputs": [],
   "source": [
    "import nltk\n",
    "from nltk import pos_tag, word_tokenize, sent_tokenize"
   ]
  },
  {
   "cell_type": "code",
   "execution_count": 2,
   "id": "b03b0e0b-1cfe-4cda-8910-69bba5d14638",
   "metadata": {},
   "outputs": [
    {
     "name": "stderr",
     "output_type": "stream",
     "text": [
      "[nltk_data] Downloading package punkt to\n",
      "[nltk_data]     /Users/zulidobariya/nltk_data...\n",
      "[nltk_data]   Package punkt is already up-to-date!\n",
      "[nltk_data] Downloading package averaged_perceptron_tagger to\n",
      "[nltk_data]     /Users/zulidobariya/nltk_data...\n",
      "[nltk_data]   Package averaged_perceptron_tagger is already up-to-\n",
      "[nltk_data]       date!\n"
     ]
    },
    {
     "data": {
      "text/plain": [
       "True"
      ]
     },
     "execution_count": 2,
     "metadata": {},
     "output_type": "execute_result"
    }
   ],
   "source": [
    "nltk.download('punkt')\n",
    "nltk.download('averaged_perceptron_tagger')"
   ]
  },
  {
   "cell_type": "code",
   "execution_count": 3,
   "id": "f20825c8-989a-4d2f-842a-96a2af508e49",
   "metadata": {},
   "outputs": [],
   "source": [
    "paragraph = \"\"\"\n",
    "Life is a fascinating journey filled with a blend of emotions, experiences, and challenges. Each day brings new opportunities to explore, learn, and grow. For instance, the morning sunrise often inspires hope and motivation, painting the sky with vibrant hues of orange and gold. People step out with a sense of purpose, eager to achieve their goals. However, not all days unfold as planned. Sometimes, unexpected obstacles arise, creating frustration and doubt. A missed deadline at work, a failed project, or a minor argument with a loved one can quickly sour the mood. Yet, even in these moments of despair, there is always a chance to find solace.\n",
    "\n",
    "Take the example of a walk in the park. The gentle rustling of leaves, the cheerful chirping of birds, and the fresh scent of flowers can soothe even the most troubled minds. Such small joys remind us that happiness often lies in simplicity. On the other hand, certain memories or events can trigger a cascade of negative emotions. The loss of a dear friend, financial struggles, or feeling isolated can weigh heavily on one’s heart, making it hard to see the light at the end of the tunnel.\n",
    "\n",
    "At the same time, relationships play a crucial role in shaping our emotional landscape. A heartwarming conversation with a best friend or a heartfelt hug from a family member can transform a gloomy day into a memorable one. Similarly, the excitement of achieving a long-awaited goal, such as graduating from college, landing a dream job, or buying a first home, brings immense joy and a sense of accomplishment. The smile on a loved one’s face or the words of encouragement they offer during tough times act as anchors, keeping us grounded amidst life’s storms.\n",
    "\n",
    "However, not every relationship is filled with positivity. Toxic friendships or strained familial ties can leave scars that take years to heal. The pain of betrayal or the bitterness of unfulfilled expectations can linger, causing a sense of emptiness. Yet, these experiences often teach resilience, helping individuals grow stronger and wiser.\n",
    "\n",
    "In addition to personal relationships, societal factors heavily influence our emotions. Social media, for instance, is a double-edged sword. While it allows people to stay connected and share their achievements, it also fosters comparison and envy. A single scroll through Instagram can evoke feelings of inadequacy, as curated snapshots of others' seemingly perfect lives create a false sense of reality. This phenomenon has led to a rise in mental health challenges, such as anxiety and depression, among individuals of all ages.\n",
    "\n",
    "Despite these challenges, the human spirit remains remarkably resilient. Acts of kindness, such as helping a stranger or volunteering for a cause, often restore faith in humanity. Stories of courage, like a cancer survivor’s journey or a community uniting after a natural disaster, inspire others to persevere. These moments highlight the beauty of compassion and the strength of unity.\n",
    "\n",
    "In conclusion, life is a mosaic of experiences that evoke a spectrum of emotions. While moments of joy and triumph fill our hearts with gratitude, periods of sadness and failure serve as reminders of our vulnerabilities. Together, they create a dynamic and ever-changing narrative, urging us to embrace both the highs and lows of this remarkable journey. After all, it is through this intricate dance of emotions that we truly understand what it means to be human.\n",
    "\n",
    "\n",
    "\"\"\"\n"
   ]
  },
  {
   "cell_type": "code",
   "execution_count": 4,
   "id": "7c7e2886-f931-4782-9051-104f97f9f2c4",
   "metadata": {},
   "outputs": [],
   "source": [
    "sentences = sent_tokenize(paragraph)\n",
    "nltk_pos_tags = [pos_tag(word_tokenize(sentence)) for sentence in sentences]"
   ]
  },
  {
   "cell_type": "code",
   "execution_count": 5,
   "id": "728cc647-a86b-4d56-b7d4-642822ee20d3",
   "metadata": {},
   "outputs": [
    {
     "name": "stdout",
     "output_type": "stream",
     "text": [
      "NLTK POS Tags:\n",
      "[[('Life', 'NNP'), ('is', 'VBZ'), ('a', 'DT'), ('fascinating', 'JJ'), ('journey', 'NN'), ('filled', 'VBN'), ('with', 'IN'), ('a', 'DT'), ('blend', 'NN'), ('of', 'IN'), ('emotions', 'NNS'), (',', ','), ('experiences', 'NNS'), (',', ','), ('and', 'CC'), ('challenges', 'NNS'), ('.', '.')], [('Each', 'DT'), ('day', 'NN'), ('brings', 'VBZ'), ('new', 'JJ'), ('opportunities', 'NNS'), ('to', 'TO'), ('explore', 'VB'), (',', ','), ('learn', 'VB'), (',', ','), ('and', 'CC'), ('grow', 'NN'), ('.', '.')], [('For', 'IN'), ('instance', 'NN'), (',', ','), ('the', 'DT'), ('morning', 'NN'), ('sunrise', 'NN'), ('often', 'RB'), ('inspires', 'VBZ'), ('hope', 'NN'), ('and', 'CC'), ('motivation', 'NN'), (',', ','), ('painting', 'VBG'), ('the', 'DT'), ('sky', 'NN'), ('with', 'IN'), ('vibrant', 'JJ'), ('hues', 'NNS'), ('of', 'IN'), ('orange', 'NN'), ('and', 'CC'), ('gold', 'NN'), ('.', '.')], [('People', 'NNS'), ('step', 'VBP'), ('out', 'RP'), ('with', 'IN'), ('a', 'DT'), ('sense', 'NN'), ('of', 'IN'), ('purpose', 'NN'), (',', ','), ('eager', 'JJ'), ('to', 'TO'), ('achieve', 'VB'), ('their', 'PRP$'), ('goals', 'NNS'), ('.', '.')], [('However', 'RB'), (',', ','), ('not', 'RB'), ('all', 'DT'), ('days', 'NNS'), ('unfold', 'RB'), ('as', 'IN'), ('planned', 'VBN'), ('.', '.')], [('Sometimes', 'RB'), (',', ','), ('unexpected', 'JJ'), ('obstacles', 'NNS'), ('arise', 'RB'), (',', ','), ('creating', 'VBG'), ('frustration', 'NN'), ('and', 'CC'), ('doubt', 'NN'), ('.', '.')], [('A', 'DT'), ('missed', 'JJ'), ('deadline', 'NN'), ('at', 'IN'), ('work', 'NN'), (',', ','), ('a', 'DT'), ('failed', 'JJ'), ('project', 'NN'), (',', ','), ('or', 'CC'), ('a', 'DT'), ('minor', 'JJ'), ('argument', 'NN'), ('with', 'IN'), ('a', 'DT'), ('loved', 'JJ'), ('one', 'CD'), ('can', 'MD'), ('quickly', 'RB'), ('sour', 'VB'), ('the', 'DT'), ('mood', 'NN'), ('.', '.')], [('Yet', 'RB'), (',', ','), ('even', 'RB'), ('in', 'IN'), ('these', 'DT'), ('moments', 'NNS'), ('of', 'IN'), ('despair', 'NN'), (',', ','), ('there', 'EX'), ('is', 'VBZ'), ('always', 'RB'), ('a', 'DT'), ('chance', 'NN'), ('to', 'TO'), ('find', 'VB'), ('solace', 'NN'), ('.', '.')], [('Take', 'VB'), ('the', 'DT'), ('example', 'NN'), ('of', 'IN'), ('a', 'DT'), ('walk', 'NN'), ('in', 'IN'), ('the', 'DT'), ('park', 'NN'), ('.', '.')], [('The', 'DT'), ('gentle', 'JJ'), ('rustling', 'NN'), ('of', 'IN'), ('leaves', 'NNS'), (',', ','), ('the', 'DT'), ('cheerful', 'JJ'), ('chirping', 'NN'), ('of', 'IN'), ('birds', 'NNS'), (',', ','), ('and', 'CC'), ('the', 'DT'), ('fresh', 'JJ'), ('scent', 'NN'), ('of', 'IN'), ('flowers', 'NNS'), ('can', 'MD'), ('soothe', 'VB'), ('even', 'RB'), ('the', 'DT'), ('most', 'RBS'), ('troubled', 'JJ'), ('minds', 'NNS'), ('.', '.')], [('Such', 'JJ'), ('small', 'JJ'), ('joys', 'NNS'), ('remind', 'VBP'), ('us', 'PRP'), ('that', 'IN'), ('happiness', 'NN'), ('often', 'RB'), ('lies', 'VBZ'), ('in', 'IN'), ('simplicity', 'NN'), ('.', '.')], [('On', 'IN'), ('the', 'DT'), ('other', 'JJ'), ('hand', 'NN'), (',', ','), ('certain', 'JJ'), ('memories', 'NNS'), ('or', 'CC'), ('events', 'NNS'), ('can', 'MD'), ('trigger', 'VB'), ('a', 'DT'), ('cascade', 'NN'), ('of', 'IN'), ('negative', 'JJ'), ('emotions', 'NNS'), ('.', '.')], [('The', 'DT'), ('loss', 'NN'), ('of', 'IN'), ('a', 'DT'), ('dear', 'JJ'), ('friend', 'NN'), (',', ','), ('financial', 'JJ'), ('struggles', 'NNS'), (',', ','), ('or', 'CC'), ('feeling', 'VBG'), ('isolated', 'VBN'), ('can', 'MD'), ('weigh', 'VB'), ('heavily', 'RB'), ('on', 'IN'), ('one', 'CD'), ('’', 'NN'), ('s', 'JJ'), ('heart', 'NN'), (',', ','), ('making', 'VBG'), ('it', 'PRP'), ('hard', 'JJ'), ('to', 'TO'), ('see', 'VB'), ('the', 'DT'), ('light', 'NN'), ('at', 'IN'), ('the', 'DT'), ('end', 'NN'), ('of', 'IN'), ('the', 'DT'), ('tunnel', 'NN'), ('.', '.')], [('At', 'IN'), ('the', 'DT'), ('same', 'JJ'), ('time', 'NN'), (',', ','), ('relationships', 'NNS'), ('play', 'VBP'), ('a', 'DT'), ('crucial', 'JJ'), ('role', 'NN'), ('in', 'IN'), ('shaping', 'VBG'), ('our', 'PRP$'), ('emotional', 'JJ'), ('landscape', 'NN'), ('.', '.')], [('A', 'DT'), ('heartwarming', 'JJ'), ('conversation', 'NN'), ('with', 'IN'), ('a', 'DT'), ('best', 'JJS'), ('friend', 'NN'), ('or', 'CC'), ('a', 'DT'), ('heartfelt', 'JJ'), ('hug', 'NN'), ('from', 'IN'), ('a', 'DT'), ('family', 'NN'), ('member', 'NN'), ('can', 'MD'), ('transform', 'VB'), ('a', 'DT'), ('gloomy', 'JJ'), ('day', 'NN'), ('into', 'IN'), ('a', 'DT'), ('memorable', 'JJ'), ('one', 'CD'), ('.', '.')], [('Similarly', 'RB'), (',', ','), ('the', 'DT'), ('excitement', 'NN'), ('of', 'IN'), ('achieving', 'VBG'), ('a', 'DT'), ('long-awaited', 'JJ'), ('goal', 'NN'), (',', ','), ('such', 'JJ'), ('as', 'IN'), ('graduating', 'VBG'), ('from', 'IN'), ('college', 'NN'), (',', ','), ('landing', 'VBG'), ('a', 'DT'), ('dream', 'NN'), ('job', 'NN'), (',', ','), ('or', 'CC'), ('buying', 'VBG'), ('a', 'DT'), ('first', 'JJ'), ('home', 'NN'), (',', ','), ('brings', 'VBZ'), ('immense', 'JJ'), ('joy', 'NN'), ('and', 'CC'), ('a', 'DT'), ('sense', 'NN'), ('of', 'IN'), ('accomplishment', 'NN'), ('.', '.')], [('The', 'DT'), ('smile', 'NN'), ('on', 'IN'), ('a', 'DT'), ('loved', 'JJ'), ('one', 'CD'), ('’', 'NN'), ('s', 'JJ'), ('face', 'NN'), ('or', 'CC'), ('the', 'DT'), ('words', 'NNS'), ('of', 'IN'), ('encouragement', 'NN'), ('they', 'PRP'), ('offer', 'VBP'), ('during', 'IN'), ('tough', 'JJ'), ('times', 'NNS'), ('act', 'VBP'), ('as', 'IN'), ('anchors', 'NNS'), (',', ','), ('keeping', 'VBG'), ('us', 'PRP'), ('grounded', 'VBD'), ('amidst', 'JJ'), ('life', 'NN'), ('’', 'NNP'), ('s', 'NN'), ('storms', 'NNS'), ('.', '.')], [('However', 'RB'), (',', ','), ('not', 'RB'), ('every', 'DT'), ('relationship', 'NN'), ('is', 'VBZ'), ('filled', 'VBN'), ('with', 'IN'), ('positivity', 'NN'), ('.', '.')], [('Toxic', 'NNP'), ('friendships', 'NNS'), ('or', 'CC'), ('strained', 'VBN'), ('familial', 'JJ'), ('ties', 'NNS'), ('can', 'MD'), ('leave', 'VB'), ('scars', 'NNS'), ('that', 'WDT'), ('take', 'VBP'), ('years', 'NNS'), ('to', 'TO'), ('heal', 'VB'), ('.', '.')], [('The', 'DT'), ('pain', 'NN'), ('of', 'IN'), ('betrayal', 'NN'), ('or', 'CC'), ('the', 'DT'), ('bitterness', 'NN'), ('of', 'IN'), ('unfulfilled', 'JJ'), ('expectations', 'NNS'), ('can', 'MD'), ('linger', 'VB'), (',', ','), ('causing', 'VBG'), ('a', 'DT'), ('sense', 'NN'), ('of', 'IN'), ('emptiness', 'NN'), ('.', '.')], [('Yet', 'RB'), (',', ','), ('these', 'DT'), ('experiences', 'NNS'), ('often', 'RB'), ('teach', 'VBP'), ('resilience', 'NN'), (',', ','), ('helping', 'VBG'), ('individuals', 'NNS'), ('grow', 'VB'), ('stronger', 'JJR'), ('and', 'CC'), ('wiser', 'RBR'), ('.', '.')], [('In', 'IN'), ('addition', 'NN'), ('to', 'TO'), ('personal', 'JJ'), ('relationships', 'NNS'), (',', ','), ('societal', 'JJ'), ('factors', 'NNS'), ('heavily', 'RB'), ('influence', 'VB'), ('our', 'PRP$'), ('emotions', 'NNS'), ('.', '.')], [('Social', 'JJ'), ('media', 'NNS'), (',', ','), ('for', 'IN'), ('instance', 'NN'), (',', ','), ('is', 'VBZ'), ('a', 'DT'), ('double-edged', 'JJ'), ('sword', 'NN'), ('.', '.')], [('While', 'IN'), ('it', 'PRP'), ('allows', 'VBZ'), ('people', 'NNS'), ('to', 'TO'), ('stay', 'VB'), ('connected', 'VBN'), ('and', 'CC'), ('share', 'NN'), ('their', 'PRP$'), ('achievements', 'NNS'), (',', ','), ('it', 'PRP'), ('also', 'RB'), ('fosters', 'VBZ'), ('comparison', 'NN'), ('and', 'CC'), ('envy', 'NN'), ('.', '.')], [('A', 'DT'), ('single', 'JJ'), ('scroll', 'NN'), ('through', 'IN'), ('Instagram', 'NNP'), ('can', 'MD'), ('evoke', 'VB'), ('feelings', 'NNS'), ('of', 'IN'), ('inadequacy', 'NN'), (',', ','), ('as', 'IN'), ('curated', 'JJ'), ('snapshots', 'NNS'), ('of', 'IN'), ('others', 'NNS'), (\"'\", 'POS'), ('seemingly', 'RB'), ('perfect', 'JJ'), ('lives', 'NNS'), ('create', 'VBP'), ('a', 'DT'), ('false', 'JJ'), ('sense', 'NN'), ('of', 'IN'), ('reality', 'NN'), ('.', '.')], [('This', 'DT'), ('phenomenon', 'NN'), ('has', 'VBZ'), ('led', 'VBN'), ('to', 'TO'), ('a', 'DT'), ('rise', 'NN'), ('in', 'IN'), ('mental', 'JJ'), ('health', 'NN'), ('challenges', 'NNS'), (',', ','), ('such', 'JJ'), ('as', 'IN'), ('anxiety', 'NN'), ('and', 'CC'), ('depression', 'NN'), (',', ','), ('among', 'IN'), ('individuals', 'NNS'), ('of', 'IN'), ('all', 'DT'), ('ages', 'NNS'), ('.', '.')], [('Despite', 'IN'), ('these', 'DT'), ('challenges', 'NNS'), (',', ','), ('the', 'DT'), ('human', 'JJ'), ('spirit', 'NN'), ('remains', 'VBZ'), ('remarkably', 'RB'), ('resilient', 'JJ'), ('.', '.')], [('Acts', 'NNS'), ('of', 'IN'), ('kindness', 'NN'), (',', ','), ('such', 'JJ'), ('as', 'IN'), ('helping', 'VBG'), ('a', 'DT'), ('stranger', 'NN'), ('or', 'CC'), ('volunteering', 'VBG'), ('for', 'IN'), ('a', 'DT'), ('cause', 'NN'), (',', ','), ('often', 'RB'), ('restore', 'VBP'), ('faith', 'NNS'), ('in', 'IN'), ('humanity', 'NN'), ('.', '.')], [('Stories', 'NNS'), ('of', 'IN'), ('courage', 'NN'), (',', ','), ('like', 'IN'), ('a', 'DT'), ('cancer', 'NN'), ('survivor', 'NN'), ('’', 'NNP'), ('s', 'VBZ'), ('journey', 'NN'), ('or', 'CC'), ('a', 'DT'), ('community', 'NN'), ('uniting', 'NN'), ('after', 'IN'), ('a', 'DT'), ('natural', 'JJ'), ('disaster', 'NN'), (',', ','), ('inspire', 'NN'), ('others', 'NNS'), ('to', 'TO'), ('persevere', 'VB'), ('.', '.')], [('These', 'DT'), ('moments', 'NNS'), ('highlight', 'VBD'), ('the', 'DT'), ('beauty', 'NN'), ('of', 'IN'), ('compassion', 'NN'), ('and', 'CC'), ('the', 'DT'), ('strength', 'NN'), ('of', 'IN'), ('unity', 'NN'), ('.', '.')], [('In', 'IN'), ('conclusion', 'NN'), (',', ','), ('life', 'NN'), ('is', 'VBZ'), ('a', 'DT'), ('mosaic', 'NN'), ('of', 'IN'), ('experiences', 'NNS'), ('that', 'WDT'), ('evoke', 'VBD'), ('a', 'DT'), ('spectrum', 'NN'), ('of', 'IN'), ('emotions', 'NNS'), ('.', '.')], [('While', 'IN'), ('moments', 'NNS'), ('of', 'IN'), ('joy', 'NN'), ('and', 'CC'), ('triumph', 'NN'), ('fill', 'VB'), ('our', 'PRP$'), ('hearts', 'NNS'), ('with', 'IN'), ('gratitude', 'NN'), (',', ','), ('periods', 'NNS'), ('of', 'IN'), ('sadness', 'NN'), ('and', 'CC'), ('failure', 'NN'), ('serve', 'VBP'), ('as', 'IN'), ('reminders', 'NNS'), ('of', 'IN'), ('our', 'PRP$'), ('vulnerabilities', 'NNS'), ('.', '.')], [('Together', 'RB'), (',', ','), ('they', 'PRP'), ('create', 'VBP'), ('a', 'DT'), ('dynamic', 'JJ'), ('and', 'CC'), ('ever-changing', 'JJ'), ('narrative', 'NN'), (',', ','), ('urging', 'VBG'), ('us', 'PRP'), ('to', 'TO'), ('embrace', 'VB'), ('both', 'PDT'), ('the', 'DT'), ('highs', 'NNS'), ('and', 'CC'), ('lows', 'NNS'), ('of', 'IN'), ('this', 'DT'), ('remarkable', 'JJ'), ('journey', 'NN'), ('.', '.')], [('After', 'IN'), ('all', 'DT'), (',', ','), ('it', 'PRP'), ('is', 'VBZ'), ('through', 'IN'), ('this', 'DT'), ('intricate', 'JJ'), ('dance', 'NN'), ('of', 'IN'), ('emotions', 'NNS'), ('that', 'IN'), ('we', 'PRP'), ('truly', 'RB'), ('understand', 'VBP'), ('what', 'WP'), ('it', 'PRP'), ('means', 'VBZ'), ('to', 'TO'), ('be', 'VB'), ('human', 'JJ'), ('.', '.')]]\n"
     ]
    }
   ],
   "source": [
    "print(\"NLTK POS Tags:\")\n",
    "print(nltk_pos_tags)"
   ]
  },
  {
   "cell_type": "code",
   "execution_count": 6,
   "id": "40a52dd1-cbe4-4be9-a2a9-ca2153b5302b",
   "metadata": {},
   "outputs": [],
   "source": [
    "import spacy"
   ]
  },
  {
   "cell_type": "code",
   "execution_count": 7,
   "id": "cba869a2-bbec-4d00-9ecf-93cb1451069f",
   "metadata": {},
   "outputs": [],
   "source": [
    "nlp = spacy.load('en_core_web_sm')\n",
    "spacy_pos_tags = [[(token.text, token.pos_) for token in nlp(sentence)] for sentence in sentences]"
   ]
  },
  {
   "cell_type": "code",
   "execution_count": 8,
   "id": "ee5d0034-735b-4882-8885-b1a5af8060cd",
   "metadata": {},
   "outputs": [
    {
     "name": "stdout",
     "output_type": "stream",
     "text": [
      "\n",
      "spaCy POS Tags:\n",
      "[[('\\n', 'SPACE'), ('Life', 'PROPN'), ('is', 'AUX'), ('a', 'DET'), ('fascinating', 'ADJ'), ('journey', 'NOUN'), ('filled', 'VERB'), ('with', 'ADP'), ('a', 'DET'), ('blend', 'NOUN'), ('of', 'ADP'), ('emotions', 'NOUN'), (',', 'PUNCT'), ('experiences', 'NOUN'), (',', 'PUNCT'), ('and', 'CCONJ'), ('challenges', 'NOUN'), ('.', 'PUNCT')], [('Each', 'DET'), ('day', 'NOUN'), ('brings', 'VERB'), ('new', 'ADJ'), ('opportunities', 'NOUN'), ('to', 'PART'), ('explore', 'VERB'), (',', 'PUNCT'), ('learn', 'VERB'), (',', 'PUNCT'), ('and', 'CCONJ'), ('grow', 'VERB'), ('.', 'PUNCT')], [('For', 'ADP'), ('instance', 'NOUN'), (',', 'PUNCT'), ('the', 'DET'), ('morning', 'NOUN'), ('sunrise', 'NOUN'), ('often', 'ADV'), ('inspires', 'VERB'), ('hope', 'NOUN'), ('and', 'CCONJ'), ('motivation', 'NOUN'), (',', 'PUNCT'), ('painting', 'VERB'), ('the', 'DET'), ('sky', 'NOUN'), ('with', 'ADP'), ('vibrant', 'ADJ'), ('hues', 'NOUN'), ('of', 'ADP'), ('orange', 'NOUN'), ('and', 'CCONJ'), ('gold', 'NOUN'), ('.', 'PUNCT')], [('People', 'NOUN'), ('step', 'VERB'), ('out', 'ADP'), ('with', 'ADP'), ('a', 'DET'), ('sense', 'NOUN'), ('of', 'ADP'), ('purpose', 'NOUN'), (',', 'PUNCT'), ('eager', 'ADJ'), ('to', 'PART'), ('achieve', 'VERB'), ('their', 'PRON'), ('goals', 'NOUN'), ('.', 'PUNCT')], [('However', 'ADV'), (',', 'PUNCT'), ('not', 'PART'), ('all', 'DET'), ('days', 'NOUN'), ('unfold', 'VERB'), ('as', 'SCONJ'), ('planned', 'VERB'), ('.', 'PUNCT')], [('Sometimes', 'ADV'), (',', 'PUNCT'), ('unexpected', 'ADJ'), ('obstacles', 'NOUN'), ('arise', 'VERB'), (',', 'PUNCT'), ('creating', 'VERB'), ('frustration', 'NOUN'), ('and', 'CCONJ'), ('doubt', 'NOUN'), ('.', 'PUNCT')], [('A', 'DET'), ('missed', 'VERB'), ('deadline', 'NOUN'), ('at', 'ADP'), ('work', 'NOUN'), (',', 'PUNCT'), ('a', 'DET'), ('failed', 'VERB'), ('project', 'NOUN'), (',', 'PUNCT'), ('or', 'CCONJ'), ('a', 'DET'), ('minor', 'ADJ'), ('argument', 'NOUN'), ('with', 'ADP'), ('a', 'DET'), ('loved', 'VERB'), ('one', 'NOUN'), ('can', 'AUX'), ('quickly', 'ADV'), ('sour', 'VERB'), ('the', 'DET'), ('mood', 'NOUN'), ('.', 'PUNCT')], [('Yet', 'ADV'), (',', 'PUNCT'), ('even', 'ADV'), ('in', 'ADP'), ('these', 'DET'), ('moments', 'NOUN'), ('of', 'ADP'), ('despair', 'NOUN'), (',', 'PUNCT'), ('there', 'PRON'), ('is', 'VERB'), ('always', 'ADV'), ('a', 'DET'), ('chance', 'NOUN'), ('to', 'PART'), ('find', 'VERB'), ('solace', 'NOUN'), ('.', 'PUNCT')], [('Take', 'VERB'), ('the', 'DET'), ('example', 'NOUN'), ('of', 'ADP'), ('a', 'DET'), ('walk', 'NOUN'), ('in', 'ADP'), ('the', 'DET'), ('park', 'NOUN'), ('.', 'PUNCT')], [('The', 'DET'), ('gentle', 'ADJ'), ('rustling', 'NOUN'), ('of', 'ADP'), ('leaves', 'NOUN'), (',', 'PUNCT'), ('the', 'DET'), ('cheerful', 'ADJ'), ('chirping', 'NOUN'), ('of', 'ADP'), ('birds', 'NOUN'), (',', 'PUNCT'), ('and', 'CCONJ'), ('the', 'DET'), ('fresh', 'ADJ'), ('scent', 'NOUN'), ('of', 'ADP'), ('flowers', 'NOUN'), ('can', 'AUX'), ('soothe', 'VERB'), ('even', 'ADV'), ('the', 'DET'), ('most', 'ADV'), ('troubled', 'ADJ'), ('minds', 'NOUN'), ('.', 'PUNCT')], [('Such', 'ADJ'), ('small', 'ADJ'), ('joys', 'NOUN'), ('remind', 'VERB'), ('us', 'PRON'), ('that', 'SCONJ'), ('happiness', 'NOUN'), ('often', 'ADV'), ('lies', 'VERB'), ('in', 'ADP'), ('simplicity', 'NOUN'), ('.', 'PUNCT')], [('On', 'ADP'), ('the', 'DET'), ('other', 'ADJ'), ('hand', 'NOUN'), (',', 'PUNCT'), ('certain', 'ADJ'), ('memories', 'NOUN'), ('or', 'CCONJ'), ('events', 'NOUN'), ('can', 'AUX'), ('trigger', 'VERB'), ('a', 'DET'), ('cascade', 'NOUN'), ('of', 'ADP'), ('negative', 'ADJ'), ('emotions', 'NOUN'), ('.', 'PUNCT')], [('The', 'DET'), ('loss', 'NOUN'), ('of', 'ADP'), ('a', 'DET'), ('dear', 'ADJ'), ('friend', 'NOUN'), (',', 'PUNCT'), ('financial', 'ADJ'), ('struggles', 'NOUN'), (',', 'PUNCT'), ('or', 'CCONJ'), ('feeling', 'NOUN'), ('isolated', 'ADJ'), ('can', 'AUX'), ('weigh', 'VERB'), ('heavily', 'ADV'), ('on', 'ADP'), ('one', 'NUM'), ('’s', 'PART'), ('heart', 'NOUN'), (',', 'PUNCT'), ('making', 'VERB'), ('it', 'PRON'), ('hard', 'ADJ'), ('to', 'PART'), ('see', 'VERB'), ('the', 'DET'), ('light', 'NOUN'), ('at', 'ADP'), ('the', 'DET'), ('end', 'NOUN'), ('of', 'ADP'), ('the', 'DET'), ('tunnel', 'NOUN'), ('.', 'PUNCT')], [('At', 'ADP'), ('the', 'DET'), ('same', 'ADJ'), ('time', 'NOUN'), (',', 'PUNCT'), ('relationships', 'NOUN'), ('play', 'VERB'), ('a', 'DET'), ('crucial', 'ADJ'), ('role', 'NOUN'), ('in', 'ADP'), ('shaping', 'VERB'), ('our', 'PRON'), ('emotional', 'ADJ'), ('landscape', 'NOUN'), ('.', 'PUNCT')], [('A', 'DET'), ('heartwarming', 'NOUN'), ('conversation', 'NOUN'), ('with', 'ADP'), ('a', 'DET'), ('best', 'ADJ'), ('friend', 'NOUN'), ('or', 'CCONJ'), ('a', 'DET'), ('heartfelt', 'ADJ'), ('hug', 'NOUN'), ('from', 'ADP'), ('a', 'DET'), ('family', 'NOUN'), ('member', 'NOUN'), ('can', 'AUX'), ('transform', 'VERB'), ('a', 'DET'), ('gloomy', 'ADJ'), ('day', 'NOUN'), ('into', 'ADP'), ('a', 'DET'), ('memorable', 'ADJ'), ('one', 'NUM'), ('.', 'PUNCT')], [('Similarly', 'ADV'), (',', 'PUNCT'), ('the', 'DET'), ('excitement', 'NOUN'), ('of', 'ADP'), ('achieving', 'VERB'), ('a', 'DET'), ('long', 'ADV'), ('-', 'PUNCT'), ('awaited', 'VERB'), ('goal', 'NOUN'), (',', 'PUNCT'), ('such', 'ADJ'), ('as', 'ADP'), ('graduating', 'VERB'), ('from', 'ADP'), ('college', 'NOUN'), (',', 'PUNCT'), ('landing', 'VERB'), ('a', 'DET'), ('dream', 'NOUN'), ('job', 'NOUN'), (',', 'PUNCT'), ('or', 'CCONJ'), ('buying', 'VERB'), ('a', 'DET'), ('first', 'ADJ'), ('home', 'NOUN'), (',', 'PUNCT'), ('brings', 'VERB'), ('immense', 'ADJ'), ('joy', 'NOUN'), ('and', 'CCONJ'), ('a', 'DET'), ('sense', 'NOUN'), ('of', 'ADP'), ('accomplishment', 'NOUN'), ('.', 'PUNCT')], [('The', 'DET'), ('smile', 'NOUN'), ('on', 'ADP'), ('a', 'DET'), ('loved', 'VERB'), ('one', 'NOUN'), ('’s', 'PART'), ('face', 'NOUN'), ('or', 'CCONJ'), ('the', 'DET'), ('words', 'NOUN'), ('of', 'ADP'), ('encouragement', 'NOUN'), ('they', 'PRON'), ('offer', 'VERB'), ('during', 'ADP'), ('tough', 'ADJ'), ('times', 'NOUN'), ('act', 'NOUN'), ('as', 'ADP'), ('anchors', 'NOUN'), (',', 'PUNCT'), ('keeping', 'VERB'), ('us', 'PRON'), ('grounded', 'VERB'), ('amidst', 'ADP'), ('life', 'NOUN'), ('’s', 'PART'), ('storms', 'NOUN'), ('.', 'PUNCT')], [('However', 'ADV'), (',', 'PUNCT'), ('not', 'PART'), ('every', 'DET'), ('relationship', 'NOUN'), ('is', 'AUX'), ('filled', 'VERB'), ('with', 'ADP'), ('positivity', 'NOUN'), ('.', 'PUNCT')], [('Toxic', 'ADJ'), ('friendships', 'NOUN'), ('or', 'CCONJ'), ('strained', 'ADJ'), ('familial', 'ADJ'), ('ties', 'NOUN'), ('can', 'AUX'), ('leave', 'VERB'), ('scars', 'NOUN'), ('that', 'PRON'), ('take', 'VERB'), ('years', 'NOUN'), ('to', 'PART'), ('heal', 'VERB'), ('.', 'PUNCT')], [('The', 'DET'), ('pain', 'NOUN'), ('of', 'ADP'), ('betrayal', 'NOUN'), ('or', 'CCONJ'), ('the', 'DET'), ('bitterness', 'NOUN'), ('of', 'ADP'), ('unfulfilled', 'ADJ'), ('expectations', 'NOUN'), ('can', 'AUX'), ('linger', 'VERB'), (',', 'PUNCT'), ('causing', 'VERB'), ('a', 'DET'), ('sense', 'NOUN'), ('of', 'ADP'), ('emptiness', 'NOUN'), ('.', 'PUNCT')], [('Yet', 'ADV'), (',', 'PUNCT'), ('these', 'DET'), ('experiences', 'NOUN'), ('often', 'ADV'), ('teach', 'VERB'), ('resilience', 'NOUN'), (',', 'PUNCT'), ('helping', 'VERB'), ('individuals', 'NOUN'), ('grow', 'VERB'), ('stronger', 'ADJ'), ('and', 'CCONJ'), ('wiser', 'NOUN'), ('.', 'PUNCT')], [('In', 'ADP'), ('addition', 'NOUN'), ('to', 'ADP'), ('personal', 'ADJ'), ('relationships', 'NOUN'), (',', 'PUNCT'), ('societal', 'ADJ'), ('factors', 'NOUN'), ('heavily', 'ADV'), ('influence', 'VERB'), ('our', 'PRON'), ('emotions', 'NOUN'), ('.', 'PUNCT')], [('Social', 'ADJ'), ('media', 'NOUN'), (',', 'PUNCT'), ('for', 'ADP'), ('instance', 'NOUN'), (',', 'PUNCT'), ('is', 'AUX'), ('a', 'DET'), ('double', 'ADJ'), ('-', 'PUNCT'), ('edged', 'ADJ'), ('sword', 'NOUN'), ('.', 'PUNCT')], [('While', 'SCONJ'), ('it', 'PRON'), ('allows', 'VERB'), ('people', 'NOUN'), ('to', 'PART'), ('stay', 'VERB'), ('connected', 'ADJ'), ('and', 'CCONJ'), ('share', 'VERB'), ('their', 'PRON'), ('achievements', 'NOUN'), (',', 'PUNCT'), ('it', 'PRON'), ('also', 'ADV'), ('fosters', 'VERB'), ('comparison', 'NOUN'), ('and', 'CCONJ'), ('envy', 'NOUN'), ('.', 'PUNCT')], [('A', 'DET'), ('single', 'ADJ'), ('scroll', 'NOUN'), ('through', 'ADP'), ('Instagram', 'PROPN'), ('can', 'AUX'), ('evoke', 'VERB'), ('feelings', 'NOUN'), ('of', 'ADP'), ('inadequacy', 'NOUN'), (',', 'PUNCT'), ('as', 'SCONJ'), ('curated', 'VERB'), ('snapshots', 'NOUN'), ('of', 'ADP'), ('others', 'NOUN'), (\"'\", 'PART'), ('seemingly', 'ADV'), ('perfect', 'ADJ'), ('lives', 'NOUN'), ('create', 'VERB'), ('a', 'DET'), ('false', 'ADJ'), ('sense', 'NOUN'), ('of', 'ADP'), ('reality', 'NOUN'), ('.', 'PUNCT')], [('This', 'DET'), ('phenomenon', 'NOUN'), ('has', 'AUX'), ('led', 'VERB'), ('to', 'ADP'), ('a', 'DET'), ('rise', 'NOUN'), ('in', 'ADP'), ('mental', 'ADJ'), ('health', 'NOUN'), ('challenges', 'NOUN'), (',', 'PUNCT'), ('such', 'ADJ'), ('as', 'ADP'), ('anxiety', 'NOUN'), ('and', 'CCONJ'), ('depression', 'NOUN'), (',', 'PUNCT'), ('among', 'ADP'), ('individuals', 'NOUN'), ('of', 'ADP'), ('all', 'DET'), ('ages', 'NOUN'), ('.', 'PUNCT')], [('Despite', 'SCONJ'), ('these', 'DET'), ('challenges', 'NOUN'), (',', 'PUNCT'), ('the', 'DET'), ('human', 'ADJ'), ('spirit', 'NOUN'), ('remains', 'VERB'), ('remarkably', 'ADV'), ('resilient', 'ADJ'), ('.', 'PUNCT')], [('Acts', 'NOUN'), ('of', 'ADP'), ('kindness', 'NOUN'), (',', 'PUNCT'), ('such', 'ADJ'), ('as', 'ADP'), ('helping', 'VERB'), ('a', 'DET'), ('stranger', 'NOUN'), ('or', 'CCONJ'), ('volunteering', 'VERB'), ('for', 'ADP'), ('a', 'DET'), ('cause', 'NOUN'), (',', 'PUNCT'), ('often', 'ADV'), ('restore', 'VERB'), ('faith', 'NOUN'), ('in', 'ADP'), ('humanity', 'NOUN'), ('.', 'PUNCT')], [('Stories', 'NOUN'), ('of', 'ADP'), ('courage', 'NOUN'), (',', 'PUNCT'), ('like', 'ADP'), ('a', 'DET'), ('cancer', 'NOUN'), ('survivor', 'NOUN'), ('’s', 'PART'), ('journey', 'NOUN'), ('or', 'CCONJ'), ('a', 'DET'), ('community', 'NOUN'), ('uniting', 'VERB'), ('after', 'ADP'), ('a', 'DET'), ('natural', 'ADJ'), ('disaster', 'NOUN'), (',', 'PUNCT'), ('inspire', 'VERB'), ('others', 'NOUN'), ('to', 'PART'), ('persevere', 'VERB'), ('.', 'PUNCT')], [('These', 'DET'), ('moments', 'NOUN'), ('highlight', 'VERB'), ('the', 'DET'), ('beauty', 'NOUN'), ('of', 'ADP'), ('compassion', 'NOUN'), ('and', 'CCONJ'), ('the', 'DET'), ('strength', 'NOUN'), ('of', 'ADP'), ('unity', 'NOUN'), ('.', 'PUNCT')], [('In', 'ADP'), ('conclusion', 'NOUN'), (',', 'PUNCT'), ('life', 'NOUN'), ('is', 'AUX'), ('a', 'DET'), ('mosaic', 'ADJ'), ('of', 'ADP'), ('experiences', 'NOUN'), ('that', 'PRON'), ('evoke', 'VERB'), ('a', 'DET'), ('spectrum', 'NOUN'), ('of', 'ADP'), ('emotions', 'NOUN'), ('.', 'PUNCT')], [('While', 'SCONJ'), ('moments', 'NOUN'), ('of', 'ADP'), ('joy', 'NOUN'), ('and', 'CCONJ'), ('triumph', 'NOUN'), ('fill', 'VERB'), ('our', 'PRON'), ('hearts', 'NOUN'), ('with', 'ADP'), ('gratitude', 'NOUN'), (',', 'PUNCT'), ('periods', 'NOUN'), ('of', 'ADP'), ('sadness', 'NOUN'), ('and', 'CCONJ'), ('failure', 'NOUN'), ('serve', 'VERB'), ('as', 'ADP'), ('reminders', 'NOUN'), ('of', 'ADP'), ('our', 'PRON'), ('vulnerabilities', 'NOUN'), ('.', 'PUNCT')], [('Together', 'ADV'), (',', 'PUNCT'), ('they', 'PRON'), ('create', 'VERB'), ('a', 'DET'), ('dynamic', 'ADJ'), ('and', 'CCONJ'), ('ever', 'ADV'), ('-', 'PUNCT'), ('changing', 'VERB'), ('narrative', 'NOUN'), (',', 'PUNCT'), ('urging', 'VERB'), ('us', 'PRON'), ('to', 'PART'), ('embrace', 'VERB'), ('both', 'CCONJ'), ('the', 'DET'), ('highs', 'NOUN'), ('and', 'CCONJ'), ('lows', 'NOUN'), ('of', 'ADP'), ('this', 'DET'), ('remarkable', 'ADJ'), ('journey', 'NOUN'), ('.', 'PUNCT')], [('After', 'ADV'), ('all', 'ADV'), (',', 'PUNCT'), ('it', 'PRON'), ('is', 'AUX'), ('through', 'ADP'), ('this', 'DET'), ('intricate', 'ADJ'), ('dance', 'NOUN'), ('of', 'ADP'), ('emotions', 'NOUN'), ('that', 'PRON'), ('we', 'PRON'), ('truly', 'ADV'), ('understand', 'VERB'), ('what', 'PRON'), ('it', 'PRON'), ('means', 'VERB'), ('to', 'PART'), ('be', 'AUX'), ('human', 'ADJ'), ('.', 'PUNCT')]]\n"
     ]
    }
   ],
   "source": [
    "print(\"\\nspaCy POS Tags:\")\n",
    "print(spacy_pos_tags)"
   ]
  },
  {
   "cell_type": "code",
   "execution_count": 9,
   "id": "11de9d88-cd5e-40f8-b454-0b5f7d5da24a",
   "metadata": {},
   "outputs": [],
   "source": [
    "from textblob import TextBlob"
   ]
  },
  {
   "cell_type": "code",
   "execution_count": 10,
   "id": "eae7647f-46fb-444d-8d95-b729083f0242",
   "metadata": {},
   "outputs": [],
   "source": [
    "sentence_sentiments = []\n",
    "for sentence in sentences:\n",
    "    blob = TextBlob(sentence)\n",
    "    sentiment = {\n",
    "        \"sentence\": sentence,\n",
    "        \"polarity\": blob.sentiment.polarity,\n",
    "        \"subjectivity\": blob.sentiment.subjectivity\n",
    "    }\n",
    "    sentence_sentiments.append(sentiment)\n"
   ]
  },
  {
   "cell_type": "code",
   "execution_count": 11,
   "id": "573f8412-e69e-4543-a654-72570919e558",
   "metadata": {},
   "outputs": [
    {
     "name": "stdout",
     "output_type": "stream",
     "text": [
      "\n",
      "Sentiment Analysis Results:\n",
      "Sentence: \n",
      "Life is a fascinating journey filled with a blend of emotions, experiences, and challenges.\n",
      "  Polarity: 0.55\n",
      "  Subjectivity: 0.875\n",
      "Sentence: Each day brings new opportunities to explore, learn, and grow.\n",
      "  Polarity: 0.13636363636363635\n",
      "  Subjectivity: 0.45454545454545453\n",
      "Sentence: For instance, the morning sunrise often inspires hope and motivation, painting the sky with vibrant hues of orange and gold.\n",
      "  Polarity: 0.16666666666666666\n",
      "  Subjectivity: 0.3333333333333333\n",
      "Sentence: People step out with a sense of purpose, eager to achieve their goals.\n",
      "  Polarity: 0.0\n",
      "  Subjectivity: 0.0\n",
      "Sentence: However, not all days unfold as planned.\n",
      "  Polarity: 0.0\n",
      "  Subjectivity: 0.0\n",
      "Sentence: Sometimes, unexpected obstacles arise, creating frustration and doubt.\n",
      "  Polarity: 0.025\n",
      "  Subjectivity: 0.5\n",
      "Sentence: A missed deadline at work, a failed project, or a minor argument with a loved one can quickly sour the mood.\n",
      "  Polarity: -2.7755575615628914e-17\n",
      "  Subjectivity: 0.35000000000000003\n",
      "Sentence: Yet, even in these moments of despair, there is always a chance to find solace.\n",
      "  Polarity: 0.0\n",
      "  Subjectivity: 0.0\n",
      "Sentence: Take the example of a walk in the park.\n",
      "  Polarity: 0.0\n",
      "  Subjectivity: 0.0\n",
      "Sentence: The gentle rustling of leaves, the cheerful chirping of birds, and the fresh scent of flowers can soothe even the most troubled minds.\n",
      "  Polarity: 0.18000000000000002\n",
      "  Subjectivity: 0.76\n",
      "Sentence: Such small joys remind us that happiness often lies in simplicity.\n",
      "  Polarity: 0.15\n",
      "  Subjectivity: 0.3666666666666667\n",
      "Sentence: On the other hand, certain memories or events can trigger a cascade of negative emotions.\n",
      "  Polarity: -0.07023809523809524\n",
      "  Subjectivity: 0.4488095238095238\n",
      "Sentence: The loss of a dear friend, financial struggles, or feeling isolated can weigh heavily on one’s heart, making it hard to see the light at the end of the tunnel.\n",
      "  Polarity: -0.02291666666666667\n",
      "  Subjectivity: 0.4354166666666666\n",
      "Sentence: At the same time, relationships play a crucial role in shaping our emotional landscape.\n",
      "  Polarity: 0.0\n",
      "  Subjectivity: 0.5916666666666667\n",
      "Sentence: A heartwarming conversation with a best friend or a heartfelt hug from a family member can transform a gloomy day into a memorable one.\n",
      "  Polarity: 0.5\n",
      "  Subjectivity: 0.7666666666666666\n",
      "Sentence: Similarly, the excitement of achieving a long-awaited goal, such as graduating from college, landing a dream job, or buying a first home, brings immense joy and a sense of accomplishment.\n",
      "  Polarity: 0.21000000000000002\n",
      "  Subjectivity: 0.4866666666666667\n",
      "Sentence: The smile on a loved one’s face or the words of encouragement they offer during tough times act as anchors, keeping us grounded amidst life’s storms.\n",
      "  Polarity: 0.20370370370370372\n",
      "  Subjectivity: 0.5777777777777778\n",
      "Sentence: However, not every relationship is filled with positivity.\n",
      "  Polarity: 0.4\n",
      "  Subjectivity: 0.9\n",
      "Sentence: Toxic friendships or strained familial ties can leave scars that take years to heal.\n",
      "  Polarity: 0.0\n",
      "  Subjectivity: 0.0\n",
      "Sentence: The pain of betrayal or the bitterness of unfulfilled expectations can linger, causing a sense of emptiness.\n",
      "  Polarity: 0.0\n",
      "  Subjectivity: 0.0\n",
      "Sentence: Yet, these experiences often teach resilience, helping individuals grow stronger and wiser.\n",
      "  Polarity: 0.0\n",
      "  Subjectivity: 0.0\n",
      "Sentence: In addition to personal relationships, societal factors heavily influence our emotions.\n",
      "  Polarity: -0.1\n",
      "  Subjectivity: 0.4\n",
      "Sentence: Social media, for instance, is a double-edged sword.\n",
      "  Polarity: 0.03333333333333333\n",
      "  Subjectivity: 0.06666666666666667\n",
      "Sentence: While it allows people to stay connected and share their achievements, it also fosters comparison and envy.\n",
      "  Polarity: 0.0\n",
      "  Subjectivity: 0.0\n",
      "Sentence: A single scroll through Instagram can evoke feelings of inadequacy, as curated snapshots of others' seemingly perfect lives create a false sense of reality.\n",
      "  Polarity: 0.17619047619047615\n",
      "  Subjectivity: 0.6047619047619047\n",
      "Sentence: This phenomenon has led to a rise in mental health challenges, such as anxiety and depression, among individuals of all ages.\n",
      "  Polarity: -0.05\n",
      "  Subjectivity: 0.35\n",
      "Sentence: Despite these challenges, the human spirit remains remarkably resilient.\n",
      "  Polarity: 0.375\n",
      "  Subjectivity: 0.425\n",
      "Sentence: Acts of kindness, such as helping a stranger or volunteering for a cause, often restore faith in humanity.\n",
      "  Polarity: 0.0\n",
      "  Subjectivity: 0.5\n",
      "Sentence: Stories of courage, like a cancer survivor’s journey or a community uniting after a natural disaster, inspire others to persevere.\n",
      "  Polarity: 0.1\n",
      "  Subjectivity: 0.4\n",
      "Sentence: These moments highlight the beauty of compassion and the strength of unity.\n",
      "  Polarity: 0.0\n",
      "  Subjectivity: 0.0\n",
      "Sentence: In conclusion, life is a mosaic of experiences that evoke a spectrum of emotions.\n",
      "  Polarity: 0.0\n",
      "  Subjectivity: 0.0\n",
      "Sentence: While moments of joy and triumph fill our hearts with gratitude, periods of sadness and failure serve as reminders of our vulnerabilities.\n",
      "  Polarity: 0.24166666666666667\n",
      "  Subjectivity: 0.25\n",
      "Sentence: Together, they create a dynamic and ever-changing narrative, urging us to embrace both the highs and lows of this remarkable journey.\n",
      "  Polarity: 0.375\n",
      "  Subjectivity: 0.4583333333333333\n",
      "Sentence: After all, it is through this intricate dance of emotions that we truly understand what it means to be human.\n",
      "  Polarity: 0.0\n",
      "  Subjectivity: 0.1\n"
     ]
    }
   ],
   "source": [
    "print(\"\\nSentiment Analysis Results:\")\n",
    "for sentiment in sentence_sentiments:\n",
    "    print(f\"Sentence: {sentiment['sentence']}\")\n",
    "    print(f\"  Polarity: {sentiment['polarity']}\")\n",
    "    print(f\"  Subjectivity: {sentiment['subjectivity']}\")"
   ]
  },
  {
   "cell_type": "code",
   "execution_count": 12,
   "id": "99e11319-cef5-4456-84ef-c23a1c055726",
   "metadata": {},
   "outputs": [],
   "source": [
    "preprocessed_sentences = [[word.lower() for word in word_tokenize(sentence) if word.isalnum()]\n",
    "                          for sentence in sentences]"
   ]
  },
  {
   "cell_type": "code",
   "execution_count": 13,
   "id": "5fa610a6-b44b-4445-b546-38586dd644dc",
   "metadata": {},
   "outputs": [],
   "source": [
    "from gensim.models import Word2Vec\n",
    "from gensim.similarities import Similarity\n",
    "from gensim.corpora.dictionary import Dictionary"
   ]
  },
  {
   "cell_type": "code",
   "execution_count": 14,
   "id": "3ef830cf-1a06-4335-94ef-dccc94494fc8",
   "metadata": {},
   "outputs": [],
   "source": [
    "dictionary = Dictionary(preprocessed_sentences)\n",
    "bow_corpus = [dictionary.doc2bow(sentence) for sentence in preprocessed_sentences]\n"
   ]
  },
  {
   "cell_type": "code",
   "execution_count": 15,
   "id": "8dd2c791-b23e-4d2c-9b8c-113aaab784ad",
   "metadata": {},
   "outputs": [],
   "source": [
    "index = Similarity(output_prefix=\"similarity_index\",\n",
    "                   corpus=bow_corpus,\n",
    "                   num_features=len(dictionary))"
   ]
  },
  {
   "cell_type": "code",
   "execution_count": 16,
   "id": "8edf8ba1-4500-4e2f-89de-b09fa85a4b07",
   "metadata": {},
   "outputs": [],
   "source": [
    "selected_sentences = preprocessed_sentences[:5]"
   ]
  },
  {
   "cell_type": "code",
   "execution_count": 17,
   "id": "5d685a50-67fe-4c0a-9442-087536d7b273",
   "metadata": {},
   "outputs": [],
   "source": [
    "\n",
    "selected_bow = [dictionary.doc2bow(sentence) for sentence in selected_sentences]\n"
   ]
  },
  {
   "cell_type": "code",
   "execution_count": 18,
   "id": "374a196e-5430-4df2-8d1f-8bc371ee303e",
   "metadata": {},
   "outputs": [],
   "source": [
    "similarity_scores = []\n",
    "for bow in selected_bow:\n",
    "    similarity_scores.append(index[bow])"
   ]
  },
  {
   "cell_type": "code",
   "execution_count": 19,
   "id": "e02829fc-cba4-4fc9-b9d8-18e369fb02e1",
   "metadata": {},
   "outputs": [
    {
     "name": "stdout",
     "output_type": "stream",
     "text": [
      "\n",
      "Similarity Scores for Selected Sentences:\n",
      "Sentence 1 Similarity Scores: [1.         0.07905694 0.20412415 0.2773501  0.         0.08838835\n",
      " 0.39167473 0.2581989  0.22613351 0.15617377 0.         0.2581989\n",
      " 0.1490712  0.13363062 0.442269   0.41937107 0.17677669 0.26516503\n",
      " 0.         0.25       0.14433756 0.07537784 0.28347334 0.10910895\n",
      " 0.3093592  0.27277237 0.08333334 0.2795085  0.38490015 0.1875\n",
      " 0.58925563 0.26516503 0.31980106 0.15990055]\n",
      "Sentence 2 Similarity Scores: [0.07905694 1.0000001  0.12909944 0.0877058  0.         0.1118034\n",
      " 0.         0.08164965 0.         0.04938648 0.         0.\n",
      " 0.04714045 0.         0.04303315 0.09644856 0.         0.\n",
      " 0.08451542 0.         0.18257418 0.09534626 0.         0.20701966\n",
      " 0.         0.13801311 0.         0.         0.06085806 0.07905694\n",
      " 0.         0.1118034  0.20225996 0.06741998]\n",
      "Sentence 3 Similarity Scores: [0.20412415 0.12909944 1.0000001  0.11322771 0.         0.14433756\n",
      " 0.10660036 0.05270463 0.30772874 0.41442487 0.06154575 0.15811388\n",
      " 0.30429032 0.10910895 0.02777778 0.18677184 0.18042195 0.07216878\n",
      " 0.         0.2857738  0.17677669 0.         0.15430336 0.17817417\n",
      " 0.10825317 0.13363063 0.13608277 0.13693064 0.03928371 0.4082483\n",
      " 0.09622505 0.28867513 0.30463588 0.04351941]\n",
      "Sentence 4 Similarity Scores: [0.2773501  0.0877058  0.11322771 1.         0.         0.\n",
      " 0.24140227 0.21483445 0.1672484  0.12994443 0.         0.14322297\n",
      " 0.16537964 0.07412493 0.264198   0.29606846 0.09805807 0.09805807\n",
      " 0.07412493 0.2773501  0.         0.0836242  0.10482848 0.18156826\n",
      " 0.2941742  0.18156826 0.         0.1860521  0.26688024 0.13867505\n",
      " 0.26148817 0.19611613 0.17739372 0.11826248]\n",
      "Sentence 5 Similarity Scores: [0.         0.         0.         0.         0.99999994 0.\n",
      " 0.         0.         0.         0.         0.         0.\n",
      " 0.         0.         0.         0.05763904 0.06681531 0.26726124\n",
      " 0.         0.         0.         0.         0.         0.\n",
      " 0.06681531 0.16495723 0.         0.08451542 0.         0.\n",
      " 0.         0.06681531 0.         0.0805823 ]\n"
     ]
    }
   ],
   "source": [
    "print(\"\\nSimilarity Scores for Selected Sentences:\")\n",
    "for i, scores in enumerate(similarity_scores):\n",
    "    print(f\"Sentence {i+1} Similarity Scores: {scores}\")"
   ]
  },
  {
   "cell_type": "code",
   "execution_count": null,
   "id": "a5897711-7d89-4e47-8230-ee7930b85a0b",
   "metadata": {},
   "outputs": [],
   "source": []
  }
 ],
 "metadata": {
  "kernelspec": {
   "display_name": "Python 3 (ipykernel)",
   "language": "python",
   "name": "python3"
  },
  "language_info": {
   "codemirror_mode": {
    "name": "ipython",
    "version": 3
   },
   "file_extension": ".py",
   "mimetype": "text/x-python",
   "name": "python",
   "nbconvert_exporter": "python",
   "pygments_lexer": "ipython3",
   "version": "3.11.7"
  }
 },
 "nbformat": 4,
 "nbformat_minor": 5
}
